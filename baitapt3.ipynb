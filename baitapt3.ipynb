{
 "cells": [
  {
   "cell_type": "code",
   "execution_count": 3,
   "id": "3420b621-83b4-4fa1-9223-b956cb597bbf",
   "metadata": {},
   "outputs": [
    {
     "name": "stdin",
     "output_type": "stream",
     "text": [
      " 5 7\n"
     ]
    },
    {
     "name": "stdout",
     "output_type": "stream",
     "text": [
      "7 5\n"
     ]
    }
   ],
   "source": [
    "a,b = map(int,input().split())\n",
    "a,b = b, a\n",
    "print (a,b)"
   ]
  },
  {
   "cell_type": "code",
   "execution_count": 6,
   "id": "867b95a7-9455-433b-a108-5d45dfb41c5b",
   "metadata": {},
   "outputs": [
    {
     "name": "stdout",
     "output_type": "stream",
     "text": [
      "6 4\n"
     ]
    }
   ],
   "source": [
    "# W3A2\n",
    "a=4\n",
    "b=6\n",
    "a= a^b\n",
    "b= a^b\n",
    "a=a^b\n",
    "print (a,b)"
   ]
  },
  {
   "cell_type": "code",
   "execution_count": 7,
   "id": "5e2cb007-993a-4416-85bc-73f5013db3ec",
   "metadata": {},
   "outputs": [
    {
     "data": {
      "text/plain": [
       "True"
      ]
     },
     "execution_count": 7,
     "metadata": {},
     "output_type": "execute_result"
    }
   ],
   "source": [
    "#W3A3\n",
    "a = 8\n",
    "a & (a-1)==0"
   ]
  },
  {
   "cell_type": "code",
   "execution_count": 12,
   "id": "7d7048fa-624b-4ce3-afd1-b8c7edf22e96",
   "metadata": {},
   "outputs": [
    {
     "name": "stdin",
     "output_type": "stream",
     "text": [
      "nhập vào số a: 10\n",
      " nhập vào số b: 3\n"
     ]
    },
    {
     "name": "stdout",
     "output_type": "stream",
     "text": [
      " kết quả là: 4\n"
     ]
    }
   ],
   "source": [
    "import math\n",
    "a= float(input(\"nhập vào số a:\"))\n",
    "b= float(input(\" nhập vào số b:\"))\n",
    "kq= math.ceil(a / b)\n",
    "print(\" kết quả là:\",kq)"
   ]
  },
  {
   "cell_type": "code",
   "execution_count": 13,
   "id": "1d67247a-f3e2-448e-b37f-00acd0330e92",
   "metadata": {},
   "outputs": [
    {
     "name": "stdin",
     "output_type": "stream",
     "text": [
      "nhập vào số a: 10\n",
      "nhập vào số b: 3\n"
     ]
    },
    {
     "name": "stdout",
     "output_type": "stream",
     "text": [
      " kết quả là: 3\n"
     ]
    }
   ],
   "source": [
    "import math\n",
    "a= float(input(\"nhập vào số a:\"))\n",
    "b= float(input(\"nhập vào số b:\"))\n",
    "kq= math.floor(a / b)\n",
    "print (\" kết quả là:\",kq)"
   ]
  },
  {
   "cell_type": "code",
   "execution_count": 14,
   "id": "28992ea2-57cc-4b98-92fb-81021b33e66c",
   "metadata": {},
   "outputs": [
    {
     "name": "stdin",
     "output_type": "stream",
     "text": [
      " số tự nhiên: 19\n"
     ]
    },
    {
     "name": "stdout",
     "output_type": "stream",
     "text": [
      "Odd\n"
     ]
    }
   ],
   "source": [
    "x=int(input(\" số tự nhiên:\"))\n",
    "if x%2==0:\n",
    "    print(\"Even\")\n",
    "else:\n",
    "    print(\"Odd\")"
   ]
  },
  {
   "cell_type": "code",
   "execution_count": null,
   "id": "095c0147-3d70-4c54-ad23-27e42826c972",
   "metadata": {},
   "outputs": [],
   "source": []
  }
 ],
 "metadata": {
  "kernelspec": {
   "display_name": "Python 3 (ipykernel)",
   "language": "python",
   "name": "python3"
  },
  "language_info": {
   "codemirror_mode": {
    "name": "ipython",
    "version": 3
   },
   "file_extension": ".py",
   "mimetype": "text/x-python",
   "name": "python",
   "nbconvert_exporter": "python",
   "pygments_lexer": "ipython3",
   "version": "3.13.5"
  }
 },
 "nbformat": 4,
 "nbformat_minor": 5
}
